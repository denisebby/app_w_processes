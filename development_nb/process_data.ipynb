{
 "cells": [
  {
   "cell_type": "code",
   "execution_count": 59,
   "metadata": {},
   "outputs": [],
   "source": [
    "import pandas as pd\n",
    "import matplotlib.pyplot as plt"
   ]
  },
  {
   "cell_type": "code",
   "execution_count": 88,
   "metadata": {},
   "outputs": [],
   "source": [
    "import plotly.express as px\n"
   ]
  },
  {
   "cell_type": "code",
   "execution_count": 47,
   "metadata": {},
   "outputs": [],
   "source": [
    "youtube_stats_df = pd.read_csv(\"/Users/denisebby/Desktop/youtube_data/videos-stats.csv\", index_col = False)\n",
    "youtube_comments_df = pd.read_csv(\"/Users/denisebby/Desktop/youtube_data/comments.csv\", index_col = False)"
   ]
  },
  {
   "cell_type": "code",
   "execution_count": 48,
   "metadata": {},
   "outputs": [],
   "source": [
    "# get rid of unnecessary column\n",
    "youtube_stats_df.drop(\"Unnamed: 0\", axis = 1, inplace = True)\n",
    "youtube_comments_df.drop(\"Unnamed: 0\", axis = 1, inplace = True)"
   ]
  },
  {
   "cell_type": "code",
   "execution_count": 52,
   "metadata": {},
   "outputs": [],
   "source": [
    "# remove videos with duplicate records\n",
    "duplicate_video_records = youtube_stats_df.groupby(by=[\"Video ID\"])[\"Video ID\"].size().reset_index(name=\"counts\").query(\"counts > 1\")\n",
    "duplicates = list(duplicate_video_records[\"Video ID\"])\n",
    "youtube_stats_df = youtube_stats_df.query(f\"~`Video ID`.isin({duplicates})\")"
   ]
  },
  {
   "cell_type": "code",
   "execution_count": 106,
   "metadata": {},
   "outputs": [],
   "source": [
    "# add number of comments to main df\n",
    "num_comments_df = youtube_comments_df.groupby(by=[\"Video ID\"]).size().reset_index(name=\"num_comments_we_have\")\n",
    "youtube_stats_df = youtube_stats_df.merge(num_comments_df, on = [\"Video ID\"], how = \"left\")"
   ]
  },
  {
   "cell_type": "code",
   "execution_count": 100,
   "metadata": {},
   "outputs": [],
   "source": [
    "# convert publish date from object to datetime, store columns for year, month, day\n",
    "youtube_stats_df[\"publish_date\"] = pd.to_datetime(youtube_stats_df[\"Published At\"])\n",
    "youtube_stats_df[\"publish_year\"] = youtube_stats_df[\"publish_date\"].dt.year\n",
    "youtube_stats_df[\"publish_month\"] = youtube_stats_df[\"publish_date\"].dt.month \n",
    "youtube_stats_df[\"publish_day\"] = youtube_stats_df[\"publish_date\"].dt.day\n",
    "\n"
   ]
  },
  {
   "cell_type": "code",
   "execution_count": null,
   "metadata": {},
   "outputs": [],
   "source": [
    "# "
   ]
  },
  {
   "cell_type": "markdown",
   "metadata": {},
   "source": [
    "# Insights"
   ]
  },
  {
   "cell_type": "markdown",
   "metadata": {},
   "source": [
    "I see 1,869 videos in this dataset.\n",
    "There are 24 videos with duplicate records around there being multiple key words for the same video. For instance, for an ASMR Gaming video, there is an entry with keyword \"asmr\" and another with keyword \"gaming\". Sometimes, the youtube stats don't match up for the duplicate records. I just manually removed cases. \n",
    "So now I have 1,857 videos.\n",
    "\n",
    "For 95% of the videos, we have 10 selected comments with text. Re-reading the kaggle description, only the top 10 most relevant comments were chosen.\n",
    "\n",
    "Almost 90% of the keywords have at least 40 videos. The keyword \"mathchemistry\" has the least number of videos with 15 videos.\n",
    "\n",
    "There are 41 unique key words. \n",
    "\n",
    "There remains cleaning to be done. "
   ]
  },
  {
   "cell_type": "markdown",
   "metadata": {},
   "source": [
    "# EDA"
   ]
  },
  {
   "cell_type": "code",
   "execution_count": 107,
   "metadata": {},
   "outputs": [
    {
     "data": {
      "text/plain": [
       "(1857, 12)"
      ]
     },
     "metadata": {},
     "output_type": "display_data"
    },
    {
     "data": {
      "text/plain": [
       "Title                           object\n",
       "Video ID                        object\n",
       "Published At                    object\n",
       "Keyword                         object\n",
       "Likes                          float64\n",
       "Comments                       float64\n",
       "Views                          float64\n",
       "publish_date            datetime64[ns]\n",
       "publish_year                     int64\n",
       "publish_month                    int64\n",
       "publish_day                      int64\n",
       "num_comments_we_have             int64\n",
       "dtype: object"
      ]
     },
     "metadata": {},
     "output_type": "display_data"
    },
    {
     "data": {
      "text/html": [
       "<div>\n",
       "<style scoped>\n",
       "    .dataframe tbody tr th:only-of-type {\n",
       "        vertical-align: middle;\n",
       "    }\n",
       "\n",
       "    .dataframe tbody tr th {\n",
       "        vertical-align: top;\n",
       "    }\n",
       "\n",
       "    .dataframe thead th {\n",
       "        text-align: right;\n",
       "    }\n",
       "</style>\n",
       "<table border=\"1\" class=\"dataframe\">\n",
       "  <thead>\n",
       "    <tr style=\"text-align: right;\">\n",
       "      <th></th>\n",
       "      <th>Title</th>\n",
       "      <th>Video ID</th>\n",
       "      <th>Published At</th>\n",
       "      <th>Keyword</th>\n",
       "      <th>Likes</th>\n",
       "      <th>Comments</th>\n",
       "      <th>Views</th>\n",
       "      <th>publish_date</th>\n",
       "      <th>publish_year</th>\n",
       "      <th>publish_month</th>\n",
       "      <th>publish_day</th>\n",
       "      <th>num_comments_we_have</th>\n",
       "    </tr>\n",
       "  </thead>\n",
       "  <tbody>\n",
       "    <tr>\n",
       "      <th>1058</th>\n",
       "      <td>Azadi - A Tribute To India&amp;#39;s Great Freedom...</td>\n",
       "      <td>ttHU25alu8A</td>\n",
       "      <td>2022-08-23</td>\n",
       "      <td>reaction</td>\n",
       "      <td>2967.0</td>\n",
       "      <td>565.0</td>\n",
       "      <td>63886.0</td>\n",
       "      <td>2022-08-23</td>\n",
       "      <td>2022</td>\n",
       "      <td>8</td>\n",
       "      <td>23</td>\n",
       "      <td>10</td>\n",
       "    </tr>\n",
       "    <tr>\n",
       "      <th>1829</th>\n",
       "      <td>MarI/O - Machine Learning for Video Games</td>\n",
       "      <td>qv6UVOQ0F44</td>\n",
       "      <td>2015-06-13</td>\n",
       "      <td>machine learning</td>\n",
       "      <td>29980.0</td>\n",
       "      <td>897.0</td>\n",
       "      <td>1167616.0</td>\n",
       "      <td>2015-06-13</td>\n",
       "      <td>2015</td>\n",
       "      <td>6</td>\n",
       "      <td>13</td>\n",
       "      <td>10</td>\n",
       "    </tr>\n",
       "    <tr>\n",
       "      <th>557</th>\n",
       "      <td>www.google.com search</td>\n",
       "      <td>e4con87R_Dk</td>\n",
       "      <td>2018-07-11</td>\n",
       "      <td>google</td>\n",
       "      <td>8383.0</td>\n",
       "      <td>773.0</td>\n",
       "      <td>9826182.0</td>\n",
       "      <td>2018-07-11</td>\n",
       "      <td>2018</td>\n",
       "      <td>7</td>\n",
       "      <td>11</td>\n",
       "      <td>10</td>\n",
       "    </tr>\n",
       "    <tr>\n",
       "      <th>604</th>\n",
       "      <td>TOP 7 Interview Questions and Answers (PASS GU...</td>\n",
       "      <td>umQKkcBPL08</td>\n",
       "      <td>2018-06-10</td>\n",
       "      <td>interview</td>\n",
       "      <td>130176.0</td>\n",
       "      <td>8669.0</td>\n",
       "      <td>5923959.0</td>\n",
       "      <td>2018-06-10</td>\n",
       "      <td>2018</td>\n",
       "      <td>6</td>\n",
       "      <td>10</td>\n",
       "      <td>10</td>\n",
       "    </tr>\n",
       "    <tr>\n",
       "      <th>1054</th>\n",
       "      <td>Reaction &amp;quot;Quên Anh Đi&amp;quot; - &amp;quot;Waiti...</td>\n",
       "      <td>isgtqJAEba8</td>\n",
       "      <td>2022-08-24</td>\n",
       "      <td>reaction</td>\n",
       "      <td>5035.0</td>\n",
       "      <td>564.0</td>\n",
       "      <td>131760.0</td>\n",
       "      <td>2022-08-24</td>\n",
       "      <td>2022</td>\n",
       "      <td>8</td>\n",
       "      <td>24</td>\n",
       "      <td>10</td>\n",
       "    </tr>\n",
       "  </tbody>\n",
       "</table>\n",
       "</div>"
      ],
      "text/plain": [
       "                                                  Title     Video ID  \\\n",
       "1058  Azadi - A Tribute To India&#39;s Great Freedom...  ttHU25alu8A   \n",
       "1829          MarI/O - Machine Learning for Video Games  qv6UVOQ0F44   \n",
       "557                               www.google.com search  e4con87R_Dk   \n",
       "604   TOP 7 Interview Questions and Answers (PASS GU...  umQKkcBPL08   \n",
       "1054  Reaction &quot;Quên Anh Đi&quot; - &quot;Waiti...  isgtqJAEba8   \n",
       "\n",
       "     Published At           Keyword     Likes  Comments      Views  \\\n",
       "1058   2022-08-23          reaction    2967.0     565.0    63886.0   \n",
       "1829   2015-06-13  machine learning   29980.0     897.0  1167616.0   \n",
       "557    2018-07-11            google    8383.0     773.0  9826182.0   \n",
       "604    2018-06-10         interview  130176.0    8669.0  5923959.0   \n",
       "1054   2022-08-24          reaction    5035.0     564.0   131760.0   \n",
       "\n",
       "     publish_date  publish_year  publish_month  publish_day  \\\n",
       "1058   2022-08-23          2022              8           23   \n",
       "1829   2015-06-13          2015              6           13   \n",
       "557    2018-07-11          2018              7           11   \n",
       "604    2018-06-10          2018              6           10   \n",
       "1054   2022-08-24          2022              8           24   \n",
       "\n",
       "      num_comments_we_have  \n",
       "1058                    10  \n",
       "1829                    10  \n",
       "557                     10  \n",
       "604                     10  \n",
       "1054                    10  "
      ]
     },
     "metadata": {},
     "output_type": "display_data"
    }
   ],
   "source": [
    "display(youtube_stats_df.shape)\n",
    "display(youtube_stats_df.dtypes)\n",
    "display(youtube_stats_df.sample(5))"
   ]
  },
  {
   "cell_type": "code",
   "execution_count": 165,
   "metadata": {},
   "outputs": [],
   "source": [
    "youtube_stats_df.to_csv(\"youtube_stats_clean.csv\", index = False)"
   ]
  },
  {
   "cell_type": "code",
   "execution_count": 17,
   "metadata": {},
   "outputs": [
    {
     "data": {
      "text/plain": [
       "Video ID      object\n",
       "Comment       object\n",
       "Likes        float64\n",
       "Sentiment    float64\n",
       "dtype: object"
      ]
     },
     "metadata": {},
     "output_type": "display_data"
    },
    {
     "data": {
      "text/html": [
       "<div>\n",
       "<style scoped>\n",
       "    .dataframe tbody tr th:only-of-type {\n",
       "        vertical-align: middle;\n",
       "    }\n",
       "\n",
       "    .dataframe tbody tr th {\n",
       "        vertical-align: top;\n",
       "    }\n",
       "\n",
       "    .dataframe thead th {\n",
       "        text-align: right;\n",
       "    }\n",
       "</style>\n",
       "<table border=\"1\" class=\"dataframe\">\n",
       "  <thead>\n",
       "    <tr style=\"text-align: right;\">\n",
       "      <th></th>\n",
       "      <th>Video ID</th>\n",
       "      <th>Comment</th>\n",
       "      <th>Likes</th>\n",
       "      <th>Sentiment</th>\n",
       "    </tr>\n",
       "  </thead>\n",
       "  <tbody>\n",
       "    <tr>\n",
       "      <th>14637</th>\n",
       "      <td>O5nskjZ_GoI</td>\n",
       "      <td>Ahhh I am super excited to follow this series!...</td>\n",
       "      <td>18.0</td>\n",
       "      <td>2.0</td>\n",
       "    </tr>\n",
       "    <tr>\n",
       "      <th>4786</th>\n",
       "      <td>vK00aD8FmsE</td>\n",
       "      <td>Great job</td>\n",
       "      <td>0.0</td>\n",
       "      <td>2.0</td>\n",
       "    </tr>\n",
       "    <tr>\n",
       "      <th>4054</th>\n",
       "      <td>2qXhKXCILLg</td>\n",
       "      <td>What an amazing hit!</td>\n",
       "      <td>2.0</td>\n",
       "      <td>2.0</td>\n",
       "    </tr>\n",
       "    <tr>\n",
       "      <th>7938</th>\n",
       "      <td>llfQoYue0Yw</td>\n",
       "      <td>''HE'S A HACKER!'' yes, a man in a sinking boa...</td>\n",
       "      <td>416.0</td>\n",
       "      <td>0.0</td>\n",
       "    </tr>\n",
       "    <tr>\n",
       "      <th>12663</th>\n",
       "      <td>JeTkMdw6RK8</td>\n",
       "      <td>Now I get why he makes only a few videos per m...</td>\n",
       "      <td>3.0</td>\n",
       "      <td>2.0</td>\n",
       "    </tr>\n",
       "  </tbody>\n",
       "</table>\n",
       "</div>"
      ],
      "text/plain": [
       "          Video ID                                            Comment  Likes  \\\n",
       "14637  O5nskjZ_GoI  Ahhh I am super excited to follow this series!...   18.0   \n",
       "4786   vK00aD8FmsE                                          Great job    0.0   \n",
       "4054   2qXhKXCILLg                               What an amazing hit!    2.0   \n",
       "7938   llfQoYue0Yw  ''HE'S A HACKER!'' yes, a man in a sinking boa...  416.0   \n",
       "12663  JeTkMdw6RK8  Now I get why he makes only a few videos per m...    3.0   \n",
       "\n",
       "       Sentiment  \n",
       "14637        2.0  \n",
       "4786         2.0  \n",
       "4054         2.0  \n",
       "7938         0.0  \n",
       "12663        2.0  "
      ]
     },
     "metadata": {},
     "output_type": "display_data"
    }
   ],
   "source": [
    "display(youtube_comments_df.dtypes)\n",
    "display(youtube_comments_df.sample(5))"
   ]
  },
  {
   "cell_type": "code",
   "execution_count": 169,
   "metadata": {},
   "outputs": [
    {
     "data": {
      "application/vnd.plotly.v1+json": {
       "config": {
        "plotlyServerURL": "https://plot.ly"
       },
       "data": [
        {
         "customdata": [
          [
           "Apple Pay Is Killing the Physical Wallet After Only Eight Years | Tech News Briefing Podcast | WSJ"
          ],
          [
           "The most EXPENSIVE thing I own."
          ],
          [
           "Petrol Vs Liquid Nitrogen | Freezing Experiment | പെട്രോളിനെ ഐസ് ആകാൻ പറ്റുമോ | M4 Tech |"
          ],
          [
           "Best Back to School Tech 2022!"
          ],
          [
           "Brewmaster Answers Beer Questions From Twitter | Tech Support | WIRED"
          ],
          [
           "Tech Monopolies: Last Week Tonight with John Oliver (HBO)"
          ],
          [
           "I bought the STRANGEST TECH on the Internet."
          ],
          [
           "15 Emerging Technologies that Will Change the World"
          ],
          [
           "Toxicologist Answers More Poison Questions From Twitter | Tech Support | WIRED"
          ],
          [
           "Dope Tech: The Most Extreme Gaming Monitor!"
          ],
          [
           "Cool Tech Under $50 - August!"
          ],
          [
           "Cool Back to School Tech 2022 🔥 (Under $100)"
          ],
          [
           "Best Tech/EDC Gifts Under $50 for Father&#39;s Day! - Gift Guide 2022"
          ],
          [
           "My Massive Tech Unboxing 47.0!"
          ],
          [
           "Why Millennials Are Leaving Six-Figure Tech Jobs"
          ],
          [
           "10 Coolest Gadgets and Inventions That Will Blow Your Mind"
          ],
          [
           "17 Coolest Gadgets You Can Actually Buy"
          ],
          [
           "Almost EVERYONE is Wasting Money on Dash Cams."
          ],
          [
           "I bought the THINNEST Tech in the world."
          ],
          [
           "iPhone 14 Lineup is NOT what you Expected.. (plot twist)"
          ],
          [
           "Doctor Answers Gut Questions From Twitter | Tech Support | WIRED"
          ],
          [
           "Cool Tech Under $50 - July!"
          ],
          [
           "Wolfgang Puck Answers Restaurant Questions From Twitter | Tech Support | WIRED"
          ],
          [
           "Battle Of The Tech - Super Bike Vs World Superbike"
          ],
          [
           "OnePlus 10R vs 10T | Unboxing &amp; Comparison"
          ],
          [
           "Tech Hiring Slowdown: What’s Different This Time? | Tech News Briefing Podcast | WSJ"
          ],
          [
           "10 New Tech Gadgets 2022 | You Can Buy Right Now"
          ],
          [
           "Taste Expert Answers Questions From Twitter | Tech Support | WIRED"
          ],
          [
           "Audiologist Answers Hearing Questions From Twitter | Tech Support | WIRED"
          ],
          [
           "James Dyson Answers Design Questions From Twitter | Tech Support | WIRED"
          ],
          [
           "My Massive Tech Unboxing 46.0!"
          ],
          [
           "Cool Tech Under $50 - April!"
          ],
          [
           "15 Emerging Technologies That Will Change Our World"
          ],
          [
           "Veterinarian Answers Pet Questions From Twitter | Tech Support | WIRED"
          ],
          [
           "What Is The Best Position For Descending? | GCN Tech Clinic"
          ],
          [
           "My Everyday Tech: 2022!"
          ],
          [
           "INVENTIONS OF THE FUTURE THAT WILL SOON BE AVAILABLE TO EVERYONE"
          ],
          [
           "Twitter Whistleblower Accuses Company of Privacy, Security Issues | Tech News Briefing Podcast | WSJ"
          ],
          [
           "I Did a Terrible Job of This - Intel $5,000 Extreme Tech Upgrade"
          ],
          [
           "Cool Tech Under $50 - June!"
          ],
          [
           "18 DEADLY Tech Fails that need to be BANNED."
          ],
          [
           "I bought the BIGGEST Tech in the world."
          ],
          [
           "Neil Gaiman Answers Mythology Questions From Twitter | Tech Support | WIRED"
          ],
          [
           "Sushi Chef Answers Sushi Questions From Twitter | Tech Support | WIRED"
          ],
          [
           "Futurum Research&#39;s Daniel Newman breaks down tech stocks to watch"
          ],
          [
           "My Favorite Tech of the Month!"
          ],
          [
           "Paleontologist Answers Dinosaur Questions From Twitter | Tech Support | WIRED"
          ]
         ],
         "hovertemplate": "publish_date=%{x}<br>Views=%{y}<br>Comments=%{marker.size}<br>Title=%{customdata[0]}<br>Likes=%{marker.color}<extra></extra>",
         "legendgroup": "",
         "marker": {
          "color": [
           3407,
           76779,
           71566,
           96513,
           33570,
           135047,
           216935,
           45565,
           24252,
           118001,
           20999,
           15322,
           17866,
           13217,
           26890,
           9562,
           11743,
           146978,
           363771,
           2117,
           42841,
           23689,
           55231,
           1289,
           970,
           1608,
           1452,
           35758,
           8725,
           110145,
           12188,
           59458,
           3494,
           36423,
           941,
           134194,
           42075,
           709,
           78852,
           32102,
           188623,
           343227,
           43960,
           77411,
           24,
           4492,
           51846
          ],
          "coloraxis": "coloraxis",
          "line": {
           "color": "Black",
           "width": 2
          },
          "size": [
           672,
           4306,
           1426,
           5155,
           1643,
           9367,
           12605,
           2882,
           1068,
           4123,
           3091,
           547,
           157,
           442,
           4999,
           199,
           143,
           11105,
           13609,
           486,
           1357,
           2842,
           2175,
           183,
           207,
           273,
           38,
           2056,
           790,
           3289,
           326,
           4159,
           136,
           1902,
           221,
           6102,
           1820,
           128,
           3926,
           3243,
           7464,
           20854,
           1767,
           2098,
           45,
           169,
           2371
          ],
          "sizemode": "area",
          "sizeref": 52.135,
          "symbol": "circle"
         },
         "mode": "markers",
         "name": "",
         "orientation": "v",
         "showlegend": false,
         "type": "scatter",
         "x": [
          "2022-08-23T00:00:00",
          "2022-08-24T00:00:00",
          "2022-08-23T00:00:00",
          "2022-08-08T00:00:00",
          "2021-11-05T00:00:00",
          "2022-06-13T00:00:00",
          "2022-08-07T00:00:00",
          "2021-12-08T00:00:00",
          "2022-07-14T00:00:00",
          "2022-08-15T00:00:00",
          "2022-08-06T00:00:00",
          "2022-08-13T00:00:00",
          "2021-12-15T00:00:00",
          "2022-07-09T00:00:00",
          "2021-06-04T00:00:00",
          "2021-08-13T00:00:00",
          "2022-07-21T00:00:00",
          "2022-08-14T00:00:00",
          "2022-03-25T00:00:00",
          "2022-08-24T00:00:00",
          "2022-05-12T00:00:00",
          "2022-07-02T00:00:00",
          "2021-06-18T00:00:00",
          "2022-07-31T00:00:00",
          "2022-08-24T00:00:00",
          "2022-08-10T00:00:00",
          "2022-05-27T00:00:00",
          "2022-06-03T00:00:00",
          "2022-08-19T00:00:00",
          "2021-11-30T00:00:00",
          "2022-05-28T00:00:00",
          "2022-04-02T00:00:00",
          "2022-05-14T00:00:00",
          "2022-05-05T00:00:00",
          "2022-08-24T00:00:00",
          "2022-01-07T00:00:00",
          "2022-03-16T00:00:00",
          "2022-08-24T00:00:00",
          "2022-07-23T00:00:00",
          "2022-06-04T00:00:00",
          "2022-07-02T00:00:00",
          "2021-12-04T00:00:00",
          "2022-08-04T00:00:00",
          "2022-05-26T00:00:00",
          "2022-08-24T00:00:00",
          "2022-07-30T00:00:00",
          "2022-06-08T00:00:00"
         ],
         "xaxis": "x",
         "y": [
          135612,
          1758063,
          922918,
          1855644,
          943119,
          5937790,
          4782514,
          7001236,
          667767,
          2359142,
          413179,
          389114,
          444953,
          371563,
          1633059,
          760249,
          1086568,
          3186890,
          11422924,
          63650,
          1280387,
          530889,
          2122433,
          35948,
          23175,
          78520,
          63599,
          1006704,
          257848,
          2954979,
          304037,
          1541386,
          589007,
          1085076,
          25594,
          4098623,
          7188648,
          25745,
          1889567,
          786765,
          4195072,
          9618335,
          791624,
          2474364,
          3461,
          274201,
          1156785
         ],
         "yaxis": "y"
        }
       ],
       "layout": {
        "coloraxis": {
         "colorbar": {
          "title": {
           "text": "Likes"
          }
         },
         "colorscale": [
          [
           0,
           "rgb(12,51,131)"
          ],
          [
           0.25,
           "rgb(10,136,186)"
          ],
          [
           0.5,
           "rgb(242,211,56)"
          ],
          [
           0.75,
           "rgb(242,143,56)"
          ],
          [
           1,
           "rgb(217,30,30)"
          ]
         ]
        },
        "legend": {
         "itemsizing": "constant",
         "tracegroupgap": 0
        },
        "margin": {
         "t": 60
        },
        "template": {
         "data": {
          "bar": [
           {
            "error_x": {
             "color": "#2a3f5f"
            },
            "error_y": {
             "color": "#2a3f5f"
            },
            "marker": {
             "line": {
              "color": "white",
              "width": 0.5
             },
             "pattern": {
              "fillmode": "overlay",
              "size": 10,
              "solidity": 0.2
             }
            },
            "type": "bar"
           }
          ],
          "barpolar": [
           {
            "marker": {
             "line": {
              "color": "white",
              "width": 0.5
             },
             "pattern": {
              "fillmode": "overlay",
              "size": 10,
              "solidity": 0.2
             }
            },
            "type": "barpolar"
           }
          ],
          "carpet": [
           {
            "aaxis": {
             "endlinecolor": "#2a3f5f",
             "gridcolor": "#C8D4E3",
             "linecolor": "#C8D4E3",
             "minorgridcolor": "#C8D4E3",
             "startlinecolor": "#2a3f5f"
            },
            "baxis": {
             "endlinecolor": "#2a3f5f",
             "gridcolor": "#C8D4E3",
             "linecolor": "#C8D4E3",
             "minorgridcolor": "#C8D4E3",
             "startlinecolor": "#2a3f5f"
            },
            "type": "carpet"
           }
          ],
          "choropleth": [
           {
            "colorbar": {
             "outlinewidth": 0,
             "ticks": ""
            },
            "type": "choropleth"
           }
          ],
          "contour": [
           {
            "colorbar": {
             "outlinewidth": 0,
             "ticks": ""
            },
            "colorscale": [
             [
              0,
              "#0d0887"
             ],
             [
              0.1111111111111111,
              "#46039f"
             ],
             [
              0.2222222222222222,
              "#7201a8"
             ],
             [
              0.3333333333333333,
              "#9c179e"
             ],
             [
              0.4444444444444444,
              "#bd3786"
             ],
             [
              0.5555555555555556,
              "#d8576b"
             ],
             [
              0.6666666666666666,
              "#ed7953"
             ],
             [
              0.7777777777777778,
              "#fb9f3a"
             ],
             [
              0.8888888888888888,
              "#fdca26"
             ],
             [
              1,
              "#f0f921"
             ]
            ],
            "type": "contour"
           }
          ],
          "contourcarpet": [
           {
            "colorbar": {
             "outlinewidth": 0,
             "ticks": ""
            },
            "type": "contourcarpet"
           }
          ],
          "heatmap": [
           {
            "colorbar": {
             "outlinewidth": 0,
             "ticks": ""
            },
            "colorscale": [
             [
              0,
              "#0d0887"
             ],
             [
              0.1111111111111111,
              "#46039f"
             ],
             [
              0.2222222222222222,
              "#7201a8"
             ],
             [
              0.3333333333333333,
              "#9c179e"
             ],
             [
              0.4444444444444444,
              "#bd3786"
             ],
             [
              0.5555555555555556,
              "#d8576b"
             ],
             [
              0.6666666666666666,
              "#ed7953"
             ],
             [
              0.7777777777777778,
              "#fb9f3a"
             ],
             [
              0.8888888888888888,
              "#fdca26"
             ],
             [
              1,
              "#f0f921"
             ]
            ],
            "type": "heatmap"
           }
          ],
          "heatmapgl": [
           {
            "colorbar": {
             "outlinewidth": 0,
             "ticks": ""
            },
            "colorscale": [
             [
              0,
              "#0d0887"
             ],
             [
              0.1111111111111111,
              "#46039f"
             ],
             [
              0.2222222222222222,
              "#7201a8"
             ],
             [
              0.3333333333333333,
              "#9c179e"
             ],
             [
              0.4444444444444444,
              "#bd3786"
             ],
             [
              0.5555555555555556,
              "#d8576b"
             ],
             [
              0.6666666666666666,
              "#ed7953"
             ],
             [
              0.7777777777777778,
              "#fb9f3a"
             ],
             [
              0.8888888888888888,
              "#fdca26"
             ],
             [
              1,
              "#f0f921"
             ]
            ],
            "type": "heatmapgl"
           }
          ],
          "histogram": [
           {
            "marker": {
             "pattern": {
              "fillmode": "overlay",
              "size": 10,
              "solidity": 0.2
             }
            },
            "type": "histogram"
           }
          ],
          "histogram2d": [
           {
            "colorbar": {
             "outlinewidth": 0,
             "ticks": ""
            },
            "colorscale": [
             [
              0,
              "#0d0887"
             ],
             [
              0.1111111111111111,
              "#46039f"
             ],
             [
              0.2222222222222222,
              "#7201a8"
             ],
             [
              0.3333333333333333,
              "#9c179e"
             ],
             [
              0.4444444444444444,
              "#bd3786"
             ],
             [
              0.5555555555555556,
              "#d8576b"
             ],
             [
              0.6666666666666666,
              "#ed7953"
             ],
             [
              0.7777777777777778,
              "#fb9f3a"
             ],
             [
              0.8888888888888888,
              "#fdca26"
             ],
             [
              1,
              "#f0f921"
             ]
            ],
            "type": "histogram2d"
           }
          ],
          "histogram2dcontour": [
           {
            "colorbar": {
             "outlinewidth": 0,
             "ticks": ""
            },
            "colorscale": [
             [
              0,
              "#0d0887"
             ],
             [
              0.1111111111111111,
              "#46039f"
             ],
             [
              0.2222222222222222,
              "#7201a8"
             ],
             [
              0.3333333333333333,
              "#9c179e"
             ],
             [
              0.4444444444444444,
              "#bd3786"
             ],
             [
              0.5555555555555556,
              "#d8576b"
             ],
             [
              0.6666666666666666,
              "#ed7953"
             ],
             [
              0.7777777777777778,
              "#fb9f3a"
             ],
             [
              0.8888888888888888,
              "#fdca26"
             ],
             [
              1,
              "#f0f921"
             ]
            ],
            "type": "histogram2dcontour"
           }
          ],
          "mesh3d": [
           {
            "colorbar": {
             "outlinewidth": 0,
             "ticks": ""
            },
            "type": "mesh3d"
           }
          ],
          "parcoords": [
           {
            "line": {
             "colorbar": {
              "outlinewidth": 0,
              "ticks": ""
             }
            },
            "type": "parcoords"
           }
          ],
          "pie": [
           {
            "automargin": true,
            "type": "pie"
           }
          ],
          "scatter": [
           {
            "fillpattern": {
             "fillmode": "overlay",
             "size": 10,
             "solidity": 0.2
            },
            "type": "scatter"
           }
          ],
          "scatter3d": [
           {
            "line": {
             "colorbar": {
              "outlinewidth": 0,
              "ticks": ""
             }
            },
            "marker": {
             "colorbar": {
              "outlinewidth": 0,
              "ticks": ""
             }
            },
            "type": "scatter3d"
           }
          ],
          "scattercarpet": [
           {
            "marker": {
             "colorbar": {
              "outlinewidth": 0,
              "ticks": ""
             }
            },
            "type": "scattercarpet"
           }
          ],
          "scattergeo": [
           {
            "marker": {
             "colorbar": {
              "outlinewidth": 0,
              "ticks": ""
             }
            },
            "type": "scattergeo"
           }
          ],
          "scattergl": [
           {
            "marker": {
             "colorbar": {
              "outlinewidth": 0,
              "ticks": ""
             }
            },
            "type": "scattergl"
           }
          ],
          "scattermapbox": [
           {
            "marker": {
             "colorbar": {
              "outlinewidth": 0,
              "ticks": ""
             }
            },
            "type": "scattermapbox"
           }
          ],
          "scatterpolar": [
           {
            "marker": {
             "colorbar": {
              "outlinewidth": 0,
              "ticks": ""
             }
            },
            "type": "scatterpolar"
           }
          ],
          "scatterpolargl": [
           {
            "marker": {
             "colorbar": {
              "outlinewidth": 0,
              "ticks": ""
             }
            },
            "type": "scatterpolargl"
           }
          ],
          "scatterternary": [
           {
            "marker": {
             "colorbar": {
              "outlinewidth": 0,
              "ticks": ""
             }
            },
            "type": "scatterternary"
           }
          ],
          "surface": [
           {
            "colorbar": {
             "outlinewidth": 0,
             "ticks": ""
            },
            "colorscale": [
             [
              0,
              "#0d0887"
             ],
             [
              0.1111111111111111,
              "#46039f"
             ],
             [
              0.2222222222222222,
              "#7201a8"
             ],
             [
              0.3333333333333333,
              "#9c179e"
             ],
             [
              0.4444444444444444,
              "#bd3786"
             ],
             [
              0.5555555555555556,
              "#d8576b"
             ],
             [
              0.6666666666666666,
              "#ed7953"
             ],
             [
              0.7777777777777778,
              "#fb9f3a"
             ],
             [
              0.8888888888888888,
              "#fdca26"
             ],
             [
              1,
              "#f0f921"
             ]
            ],
            "type": "surface"
           }
          ],
          "table": [
           {
            "cells": {
             "fill": {
              "color": "#EBF0F8"
             },
             "line": {
              "color": "white"
             }
            },
            "header": {
             "fill": {
              "color": "#C8D4E3"
             },
             "line": {
              "color": "white"
             }
            },
            "type": "table"
           }
          ]
         },
         "layout": {
          "annotationdefaults": {
           "arrowcolor": "#2a3f5f",
           "arrowhead": 0,
           "arrowwidth": 1
          },
          "autotypenumbers": "strict",
          "coloraxis": {
           "colorbar": {
            "outlinewidth": 0,
            "ticks": ""
           }
          },
          "colorscale": {
           "diverging": [
            [
             0,
             "#8e0152"
            ],
            [
             0.1,
             "#c51b7d"
            ],
            [
             0.2,
             "#de77ae"
            ],
            [
             0.3,
             "#f1b6da"
            ],
            [
             0.4,
             "#fde0ef"
            ],
            [
             0.5,
             "#f7f7f7"
            ],
            [
             0.6,
             "#e6f5d0"
            ],
            [
             0.7,
             "#b8e186"
            ],
            [
             0.8,
             "#7fbc41"
            ],
            [
             0.9,
             "#4d9221"
            ],
            [
             1,
             "#276419"
            ]
           ],
           "sequential": [
            [
             0,
             "#0d0887"
            ],
            [
             0.1111111111111111,
             "#46039f"
            ],
            [
             0.2222222222222222,
             "#7201a8"
            ],
            [
             0.3333333333333333,
             "#9c179e"
            ],
            [
             0.4444444444444444,
             "#bd3786"
            ],
            [
             0.5555555555555556,
             "#d8576b"
            ],
            [
             0.6666666666666666,
             "#ed7953"
            ],
            [
             0.7777777777777778,
             "#fb9f3a"
            ],
            [
             0.8888888888888888,
             "#fdca26"
            ],
            [
             1,
             "#f0f921"
            ]
           ],
           "sequentialminus": [
            [
             0,
             "#0d0887"
            ],
            [
             0.1111111111111111,
             "#46039f"
            ],
            [
             0.2222222222222222,
             "#7201a8"
            ],
            [
             0.3333333333333333,
             "#9c179e"
            ],
            [
             0.4444444444444444,
             "#bd3786"
            ],
            [
             0.5555555555555556,
             "#d8576b"
            ],
            [
             0.6666666666666666,
             "#ed7953"
            ],
            [
             0.7777777777777778,
             "#fb9f3a"
            ],
            [
             0.8888888888888888,
             "#fdca26"
            ],
            [
             1,
             "#f0f921"
            ]
           ]
          },
          "colorway": [
           "#636efa",
           "#EF553B",
           "#00cc96",
           "#ab63fa",
           "#FFA15A",
           "#19d3f3",
           "#FF6692",
           "#B6E880",
           "#FF97FF",
           "#FECB52"
          ],
          "font": {
           "color": "#2a3f5f"
          },
          "geo": {
           "bgcolor": "white",
           "lakecolor": "white",
           "landcolor": "white",
           "showlakes": true,
           "showland": true,
           "subunitcolor": "#C8D4E3"
          },
          "hoverlabel": {
           "align": "left"
          },
          "hovermode": "closest",
          "mapbox": {
           "style": "light"
          },
          "paper_bgcolor": "white",
          "plot_bgcolor": "white",
          "polar": {
           "angularaxis": {
            "gridcolor": "#EBF0F8",
            "linecolor": "#EBF0F8",
            "ticks": ""
           },
           "bgcolor": "white",
           "radialaxis": {
            "gridcolor": "#EBF0F8",
            "linecolor": "#EBF0F8",
            "ticks": ""
           }
          },
          "scene": {
           "xaxis": {
            "backgroundcolor": "white",
            "gridcolor": "#DFE8F3",
            "gridwidth": 2,
            "linecolor": "#EBF0F8",
            "showbackground": true,
            "ticks": "",
            "zerolinecolor": "#EBF0F8"
           },
           "yaxis": {
            "backgroundcolor": "white",
            "gridcolor": "#DFE8F3",
            "gridwidth": 2,
            "linecolor": "#EBF0F8",
            "showbackground": true,
            "ticks": "",
            "zerolinecolor": "#EBF0F8"
           },
           "zaxis": {
            "backgroundcolor": "white",
            "gridcolor": "#DFE8F3",
            "gridwidth": 2,
            "linecolor": "#EBF0F8",
            "showbackground": true,
            "ticks": "",
            "zerolinecolor": "#EBF0F8"
           }
          },
          "shapedefaults": {
           "line": {
            "color": "#2a3f5f"
           }
          },
          "ternary": {
           "aaxis": {
            "gridcolor": "#DFE8F3",
            "linecolor": "#A2B1C6",
            "ticks": ""
           },
           "baxis": {
            "gridcolor": "#DFE8F3",
            "linecolor": "#A2B1C6",
            "ticks": ""
           },
           "bgcolor": "white",
           "caxis": {
            "gridcolor": "#DFE8F3",
            "linecolor": "#A2B1C6",
            "ticks": ""
           }
          },
          "title": {
           "x": 0.05
          },
          "xaxis": {
           "automargin": true,
           "gridcolor": "#EBF0F8",
           "linecolor": "#EBF0F8",
           "ticks": "",
           "title": {
            "standoff": 15
           },
           "zerolinecolor": "#EBF0F8",
           "zerolinewidth": 2
          },
          "yaxis": {
           "automargin": true,
           "gridcolor": "#EBF0F8",
           "linecolor": "#EBF0F8",
           "ticks": "",
           "title": {
            "standoff": 15
           },
           "zerolinecolor": "#EBF0F8",
           "zerolinewidth": 2
          }
         }
        },
        "title": {
         "text": "<b>Youtube Stats: Keyword = 'tech'</b><br>Size=# comments, Color = # likes"
        },
        "xaxis": {
         "anchor": "y",
         "domain": [
          0,
          1
         ],
         "title": {
          "text": "Publish Date"
         }
        },
        "yaxis": {
         "anchor": "x",
         "domain": [
          0,
          1
         ],
         "title": {
          "text": "Views"
         }
        }
       }
      }
     },
     "metadata": {},
     "output_type": "display_data"
    }
   ],
   "source": [
    "keyword = \"tech\"\n",
    "fig = px.scatter(youtube_stats_df.query(f\"Keyword == '{keyword}'\"), x = \"publish_date\", y = \"Views\", color = \"Likes\", size = \"Comments\",\n",
    "        hover_data = [\"Title\"], template = \"plotly_white\", color_continuous_scale=\"portland\")\n",
    "fig.update_traces(marker = dict(line=dict(width=2, color = \"Black\")))\n",
    "fig.update_xaxes(title = \"Publish Date\")\n",
    "fig.update_layout(title = f\"<b>Youtube Stats: Keyword = '{keyword}'</b><br>Size=# comments, Color = # likes\")"
   ]
  },
  {
   "cell_type": "code",
   "execution_count": 163,
   "metadata": {},
   "outputs": [
    {
     "data": {
      "text/plain": [
       "(1857, 12)"
      ]
     },
     "execution_count": 163,
     "metadata": {},
     "output_type": "execute_result"
    }
   ],
   "source": [
    "youtube_stats_df.shape"
   ]
  },
  {
   "cell_type": "code",
   "execution_count": 164,
   "metadata": {},
   "outputs": [],
   "source": [
    "youtube_stats_df = youtube_stats_df.dropna()"
   ]
  },
  {
   "cell_type": "code",
   "execution_count": 27,
   "metadata": {},
   "outputs": [
    {
     "data": {
      "text/plain": [
       "(1881, 8)"
      ]
     },
     "execution_count": 27,
     "metadata": {},
     "output_type": "execute_result"
    }
   ],
   "source": [
    "youtube_stats_df.shape"
   ]
  },
  {
   "cell_type": "code",
   "execution_count": 99,
   "metadata": {},
   "outputs": [
    {
     "data": {
      "text/plain": [
       "0       23\n",
       "1       24\n",
       "2       23\n",
       "3        8\n",
       "4        5\n",
       "        ..\n",
       "1852    14\n",
       "1853     8\n",
       "1854    20\n",
       "1855    11\n",
       "1856    30\n",
       "Name: publish_date, Length: 1857, dtype: int64"
      ]
     },
     "execution_count": 99,
     "metadata": {},
     "output_type": "execute_result"
    }
   ],
   "source": [
    "youtube_stats_df = youtube_stats_df.publish_date.dt.day"
   ]
  },
  {
   "cell_type": "code",
   "execution_count": 39,
   "metadata": {},
   "outputs": [
    {
     "data": {
      "text/html": [
       "<div>\n",
       "<style scoped>\n",
       "    .dataframe tbody tr th:only-of-type {\n",
       "        vertical-align: middle;\n",
       "    }\n",
       "\n",
       "    .dataframe tbody tr th {\n",
       "        vertical-align: top;\n",
       "    }\n",
       "\n",
       "    .dataframe thead th {\n",
       "        text-align: right;\n",
       "    }\n",
       "</style>\n",
       "<table border=\"1\" class=\"dataframe\">\n",
       "  <thead>\n",
       "    <tr style=\"text-align: right;\">\n",
       "      <th></th>\n",
       "      <th>Video ID</th>\n",
       "      <th>counts</th>\n",
       "    </tr>\n",
       "  </thead>\n",
       "  <tbody>\n",
       "    <tr>\n",
       "      <th>111</th>\n",
       "      <td>2FYvHn12pOQ</td>\n",
       "      <td>2</td>\n",
       "    </tr>\n",
       "    <tr>\n",
       "      <th>176</th>\n",
       "      <td>4mgePWWCAmA</td>\n",
       "      <td>2</td>\n",
       "    </tr>\n",
       "    <tr>\n",
       "      <th>201</th>\n",
       "      <td>5q87K1WaoFI</td>\n",
       "      <td>2</td>\n",
       "    </tr>\n",
       "    <tr>\n",
       "      <th>249</th>\n",
       "      <td>7eh4d6sabA0</td>\n",
       "      <td>2</td>\n",
       "    </tr>\n",
       "    <tr>\n",
       "      <th>281</th>\n",
       "      <td>96mrgd8-3yE</td>\n",
       "      <td>2</td>\n",
       "    </tr>\n",
       "    <tr>\n",
       "      <th>627</th>\n",
       "      <td>LeC5yJq4tsI</td>\n",
       "      <td>2</td>\n",
       "    </tr>\n",
       "    <tr>\n",
       "      <th>791</th>\n",
       "      <td>R-R0KrXvWbc</td>\n",
       "      <td>2</td>\n",
       "    </tr>\n",
       "    <tr>\n",
       "      <th>804</th>\n",
       "      <td>RFMi3v0TXP8</td>\n",
       "      <td>2</td>\n",
       "    </tr>\n",
       "    <tr>\n",
       "      <th>945</th>\n",
       "      <td>WBK2_lD7KGA</td>\n",
       "      <td>2</td>\n",
       "    </tr>\n",
       "    <tr>\n",
       "      <th>1047</th>\n",
       "      <td>ZgeorpjGJC0</td>\n",
       "      <td>2</td>\n",
       "    </tr>\n",
       "    <tr>\n",
       "      <th>1411</th>\n",
       "      <td>kkOweffr3II</td>\n",
       "      <td>2</td>\n",
       "    </tr>\n",
       "    <tr>\n",
       "      <th>1472</th>\n",
       "      <td>mqc6QqoGNWI</td>\n",
       "      <td>2</td>\n",
       "    </tr>\n",
       "  </tbody>\n",
       "</table>\n",
       "</div>"
      ],
      "text/plain": [
       "         Video ID  counts\n",
       "111   2FYvHn12pOQ       2\n",
       "176   4mgePWWCAmA       2\n",
       "201   5q87K1WaoFI       2\n",
       "249   7eh4d6sabA0       2\n",
       "281   96mrgd8-3yE       2\n",
       "627   LeC5yJq4tsI       2\n",
       "791   R-R0KrXvWbc       2\n",
       "804   RFMi3v0TXP8       2\n",
       "945   WBK2_lD7KGA       2\n",
       "1047  ZgeorpjGJC0       2\n",
       "1411  kkOweffr3II       2\n",
       "1472  mqc6QqoGNWI       2"
      ]
     },
     "execution_count": 39,
     "metadata": {},
     "output_type": "execute_result"
    }
   ],
   "source": [
    "youtube_stats_df.groupby(by=[\"Video ID\"])[\"Video ID\"].size().reset_index(name=\"counts\").query(\"counts > 1\")"
   ]
  },
  {
   "cell_type": "code",
   "execution_count": 87,
   "metadata": {},
   "outputs": [
    {
     "data": {
      "text/plain": [
       "Text(0.5, 1.0, 'Distribution of Keyword # Videos')"
      ]
     },
     "execution_count": 87,
     "metadata": {},
     "output_type": "execute_result"
    },
    {
     "data": {
      "image/png": "[encoded data removed]",
      "text/plain": [
       "<Figure size 640x480 with 1 Axes>"
      ]
     },
     "metadata": {},
     "output_type": "display_data"
    }
   ],
   "source": [
    "fig, ax = plt.subplots()\n",
    "\n",
    "ax.hist(youtube_stats_df.groupby(by=[\"Keyword\"]).size().reset_index(name=\"keyword_freq\").keyword_freq, bins = 25)\n",
    "ax.set_title(\"Distribution of Keyword # Videos\")"
   ]
  },
  {
   "cell_type": "code",
   "execution_count": 109,
   "metadata": {},
   "outputs": [
    {
     "data": {
      "text/html": [
       "<div>\n",
       "<style scoped>\n",
       "    .dataframe tbody tr th:only-of-type {\n",
       "        vertical-align: middle;\n",
       "    }\n",
       "\n",
       "    .dataframe tbody tr th {\n",
       "        vertical-align: top;\n",
       "    }\n",
       "\n",
       "    .dataframe thead th {\n",
       "        text-align: right;\n",
       "    }\n",
       "</style>\n",
       "<table border=\"1\" class=\"dataframe\">\n",
       "  <thead>\n",
       "    <tr style=\"text-align: right;\">\n",
       "      <th></th>\n",
       "      <th>Keyword</th>\n",
       "      <th>keyword_freq</th>\n",
       "    </tr>\n",
       "  </thead>\n",
       "  <tbody>\n",
       "    <tr>\n",
       "      <th>20</th>\n",
       "      <td>interview</td>\n",
       "      <td>50</td>\n",
       "    </tr>\n",
       "    <tr>\n",
       "      <th>7</th>\n",
       "      <td>cnn</td>\n",
       "      <td>50</td>\n",
       "    </tr>\n",
       "    <tr>\n",
       "      <th>24</th>\n",
       "      <td>marvel</td>\n",
       "      <td>50</td>\n",
       "    </tr>\n",
       "    <tr>\n",
       "      <th>15</th>\n",
       "      <td>game development</td>\n",
       "      <td>50</td>\n",
       "    </tr>\n",
       "    <tr>\n",
       "      <th>28</th>\n",
       "      <td>mrbeast</td>\n",
       "      <td>50</td>\n",
       "    </tr>\n",
       "  </tbody>\n",
       "</table>\n",
       "</div>"
      ],
      "text/plain": [
       "             Keyword  keyword_freq\n",
       "20         interview            50\n",
       "7                cnn            50\n",
       "24            marvel            50\n",
       "15  game development            50\n",
       "28           mrbeast            50"
      ]
     },
     "metadata": {},
     "output_type": "display_data"
    },
    {
     "data": {
      "text/html": [
       "<div>\n",
       "<style scoped>\n",
       "    .dataframe tbody tr th:only-of-type {\n",
       "        vertical-align: middle;\n",
       "    }\n",
       "\n",
       "    .dataframe tbody tr th {\n",
       "        vertical-align: top;\n",
       "    }\n",
       "\n",
       "    .dataframe thead th {\n",
       "        text-align: right;\n",
       "    }\n",
       "</style>\n",
       "<table border=\"1\" class=\"dataframe\">\n",
       "  <thead>\n",
       "    <tr style=\"text-align: right;\">\n",
       "      <th></th>\n",
       "      <th>Keyword</th>\n",
       "      <th>keyword_freq</th>\n",
       "    </tr>\n",
       "  </thead>\n",
       "  <tbody>\n",
       "    <tr>\n",
       "      <th>25</th>\n",
       "      <td>mathchemistry</td>\n",
       "      <td>15</td>\n",
       "    </tr>\n",
       "    <tr>\n",
       "      <th>12</th>\n",
       "      <td>education</td>\n",
       "      <td>24</td>\n",
       "    </tr>\n",
       "    <tr>\n",
       "      <th>0</th>\n",
       "      <td>animals</td>\n",
       "      <td>38</td>\n",
       "    </tr>\n",
       "    <tr>\n",
       "      <th>13</th>\n",
       "      <td>finance</td>\n",
       "      <td>39</td>\n",
       "    </tr>\n",
       "    <tr>\n",
       "      <th>31</th>\n",
       "      <td>news</td>\n",
       "      <td>39</td>\n",
       "    </tr>\n",
       "  </tbody>\n",
       "</table>\n",
       "</div>"
      ],
      "text/plain": [
       "          Keyword  keyword_freq\n",
       "25  mathchemistry            15\n",
       "12      education            24\n",
       "0         animals            38\n",
       "13        finance            39\n",
       "31           news            39"
      ]
     },
     "metadata": {},
     "output_type": "display_data"
    }
   ],
   "source": [
    "display(youtube_stats_df.groupby(by=[\"Keyword\"]).size().reset_index(name=\"keyword_freq\").sort_values(by=[\"keyword_freq\"], ascending = False).head(5))\n",
    "display(youtube_stats_df.groupby(by=[\"Keyword\"]).size().reset_index(name=\"keyword_freq\").sort_values(by=[\"keyword_freq\"], ascending = True).head(5))"
   ]
  },
  {
   "cell_type": "code",
   "execution_count": 112,
   "metadata": {},
   "outputs": [
    {
     "data": {
      "text/plain": [
       "0.8780487804878049"
      ]
     },
     "execution_count": 112,
     "metadata": {},
     "output_type": "execute_result"
    }
   ],
   "source": [
    "tmp = youtube_stats_df.groupby(by=[\"Keyword\"]).size().reset_index(name=\"keyword_freq\").sort_values(by=[\"keyword_freq\"], ascending = False)\n",
    "tmp.query(\"keyword_freq >= 40\").shape[0]/ tmp.shape[0]"
   ]
  },
  {
   "cell_type": "code",
   "execution_count": 40,
   "metadata": {},
   "outputs": [],
   "source": [
    "duplicate_video_records = youtube_stats_df.groupby(by=[\"Video ID\"])[\"Video ID\"].size().reset_index(name=\"counts\").query(\"counts > 1\")"
   ]
  },
  {
   "cell_type": "code",
   "execution_count": 50,
   "metadata": {},
   "outputs": [],
   "source": [
    "duplicates = list(duplicate_video_records[\"Video ID\"])"
   ]
  },
  {
   "cell_type": "code",
   "execution_count": 43,
   "metadata": {},
   "outputs": [
    {
     "data": {
      "text/html": [
       "<div>\n",
       "<style scoped>\n",
       "    .dataframe tbody tr th:only-of-type {\n",
       "        vertical-align: middle;\n",
       "    }\n",
       "\n",
       "    .dataframe tbody tr th {\n",
       "        vertical-align: top;\n",
       "    }\n",
       "\n",
       "    .dataframe thead th {\n",
       "        text-align: right;\n",
       "    }\n",
       "</style>\n",
       "<table border=\"1\" class=\"dataframe\">\n",
       "  <thead>\n",
       "    <tr style=\"text-align: right;\">\n",
       "      <th></th>\n",
       "      <th>Title</th>\n",
       "      <th>Video ID</th>\n",
       "      <th>Published At</th>\n",
       "      <th>Keyword</th>\n",
       "      <th>Likes</th>\n",
       "      <th>Comments</th>\n",
       "      <th>Views</th>\n",
       "      <th>counts</th>\n",
       "    </tr>\n",
       "  </thead>\n",
       "  <tbody>\n",
       "    <tr>\n",
       "      <th>17</th>\n",
       "      <td>Vikram Vedha Movie Teaser Review | KRK | #krkr...</td>\n",
       "      <td>2FYvHn12pOQ</td>\n",
       "      <td>2022-08-24</td>\n",
       "      <td>movies</td>\n",
       "      <td>-1.0</td>\n",
       "      <td>105.0</td>\n",
       "      <td>1541874.0</td>\n",
       "      <td>2</td>\n",
       "    </tr>\n",
       "    <tr>\n",
       "      <th>16</th>\n",
       "      <td>Vikram Vedha Movie Teaser Review | KRK | #krkr...</td>\n",
       "      <td>2FYvHn12pOQ</td>\n",
       "      <td>2022-08-24</td>\n",
       "      <td>reaction</td>\n",
       "      <td>29728.0</td>\n",
       "      <td>8832.0</td>\n",
       "      <td>405791.0</td>\n",
       "      <td>2</td>\n",
       "    </tr>\n",
       "    <tr>\n",
       "      <th>0</th>\n",
       "      <td>My New House Gaming Setup is SICK!</td>\n",
       "      <td>4mgePWWCAmA</td>\n",
       "      <td>2022-08-23</td>\n",
       "      <td>tech</td>\n",
       "      <td>63825.0</td>\n",
       "      <td>3338.0</td>\n",
       "      <td>1564007.0</td>\n",
       "      <td>2</td>\n",
       "    </tr>\n",
       "    <tr>\n",
       "      <th>1</th>\n",
       "      <td>My New House Gaming Setup is SICK!</td>\n",
       "      <td>4mgePWWCAmA</td>\n",
       "      <td>2022-08-23</td>\n",
       "      <td>gaming</td>\n",
       "      <td>63825.0</td>\n",
       "      <td>3338.0</td>\n",
       "      <td>1564007.0</td>\n",
       "      <td>2</td>\n",
       "    </tr>\n",
       "    <tr>\n",
       "      <th>19</th>\n",
       "      <td>Computer Scientist Explains Machine Learning i...</td>\n",
       "      <td>5q87K1WaoFI</td>\n",
       "      <td>2021-08-18</td>\n",
       "      <td>machine learning</td>\n",
       "      <td>15137.0</td>\n",
       "      <td>181.0</td>\n",
       "      <td>906372.0</td>\n",
       "      <td>2</td>\n",
       "    </tr>\n",
       "    <tr>\n",
       "      <th>18</th>\n",
       "      <td>Computer Scientist Explains Machine Learning i...</td>\n",
       "      <td>5q87K1WaoFI</td>\n",
       "      <td>2021-08-18</td>\n",
       "      <td>computer science</td>\n",
       "      <td>42940.0</td>\n",
       "      <td>1735.0</td>\n",
       "      <td>1407319.0</td>\n",
       "      <td>2</td>\n",
       "    </tr>\n",
       "    <tr>\n",
       "      <th>22</th>\n",
       "      <td>Python Machine Learning Tutorial (Data Science)</td>\n",
       "      <td>7eh4d6sabA0</td>\n",
       "      <td>2020-09-17</td>\n",
       "      <td>data science</td>\n",
       "      <td>7555.0</td>\n",
       "      <td>442.0</td>\n",
       "      <td>295344.0</td>\n",
       "      <td>2</td>\n",
       "    </tr>\n",
       "    <tr>\n",
       "      <th>23</th>\n",
       "      <td>Python Machine Learning Tutorial (Data Science)</td>\n",
       "      <td>7eh4d6sabA0</td>\n",
       "      <td>2020-09-17</td>\n",
       "      <td>machine learning</td>\n",
       "      <td>1237.0</td>\n",
       "      <td>16.0</td>\n",
       "      <td>32605.0</td>\n",
       "      <td>2</td>\n",
       "    </tr>\n",
       "    <tr>\n",
       "      <th>20</th>\n",
       "      <td>🚨 DÉPÊCHEZ-VOUS 🚨 Ces PROMOS disparaissent bie...</td>\n",
       "      <td>96mrgd8-3yE</td>\n",
       "      <td>2022-08-24</td>\n",
       "      <td>nintendo</td>\n",
       "      <td>406.0</td>\n",
       "      <td>57.0</td>\n",
       "      <td>13184.0</td>\n",
       "      <td>2</td>\n",
       "    </tr>\n",
       "    <tr>\n",
       "      <th>21</th>\n",
       "      <td>🚨 DÉPÊCHEZ-VOUS 🚨 Ces PROMOS disparaissent bie...</td>\n",
       "      <td>96mrgd8-3yE</td>\n",
       "      <td>2022-08-24</td>\n",
       "      <td>xbox</td>\n",
       "      <td>406.0</td>\n",
       "      <td>57.0</td>\n",
       "      <td>13184.0</td>\n",
       "      <td>2</td>\n",
       "    </tr>\n",
       "    <tr>\n",
       "      <th>8</th>\n",
       "      <td>20 Minecraft Block Facts You Maybe Didn&amp;#39;t ...</td>\n",
       "      <td>LeC5yJq4tsI</td>\n",
       "      <td>2022-08-21</td>\n",
       "      <td>tutorial</td>\n",
       "      <td>57526.0</td>\n",
       "      <td>1115.0</td>\n",
       "      <td>1204024.0</td>\n",
       "      <td>2</td>\n",
       "    </tr>\n",
       "    <tr>\n",
       "      <th>9</th>\n",
       "      <td>20 Minecraft Block Facts You Maybe Didn&amp;#39;t ...</td>\n",
       "      <td>LeC5yJq4tsI</td>\n",
       "      <td>2022-08-21</td>\n",
       "      <td>minecraft</td>\n",
       "      <td>57527.0</td>\n",
       "      <td>1115.0</td>\n",
       "      <td>1204024.0</td>\n",
       "      <td>2</td>\n",
       "    </tr>\n",
       "    <tr>\n",
       "      <th>6</th>\n",
       "      <td>How to Solve a Rubik&amp;#39;s Cube | WIRED</td>\n",
       "      <td>R-R0KrXvWbc</td>\n",
       "      <td>2019-09-05</td>\n",
       "      <td>how-to</td>\n",
       "      <td>339758.0</td>\n",
       "      <td>32718.0</td>\n",
       "      <td>29905105.0</td>\n",
       "      <td>2</td>\n",
       "    </tr>\n",
       "    <tr>\n",
       "      <th>7</th>\n",
       "      <td>How to Solve a Rubik&amp;#39;s Cube | WIRED</td>\n",
       "      <td>R-R0KrXvWbc</td>\n",
       "      <td>2019-09-05</td>\n",
       "      <td>cubes</td>\n",
       "      <td>339759.0</td>\n",
       "      <td>32717.0</td>\n",
       "      <td>29905105.0</td>\n",
       "      <td>2</td>\n",
       "    </tr>\n",
       "    <tr>\n",
       "      <th>14</th>\n",
       "      <td>BLACKPINK - ‘Pink Venom’ DANCE PRACTICE VIDEO</td>\n",
       "      <td>RFMi3v0TXP8</td>\n",
       "      <td>2022-08-24</td>\n",
       "      <td>music</td>\n",
       "      <td>3001232.0</td>\n",
       "      <td>110160.0</td>\n",
       "      <td>23836066.0</td>\n",
       "      <td>2</td>\n",
       "    </tr>\n",
       "    <tr>\n",
       "      <th>15</th>\n",
       "      <td>BLACKPINK - ‘Pink Venom’ DANCE PRACTICE VIDEO</td>\n",
       "      <td>RFMi3v0TXP8</td>\n",
       "      <td>2022-08-24</td>\n",
       "      <td>reaction</td>\n",
       "      <td>3001265.0</td>\n",
       "      <td>110162.0</td>\n",
       "      <td>23836066.0</td>\n",
       "      <td>2</td>\n",
       "    </tr>\n",
       "    <tr>\n",
       "      <th>3</th>\n",
       "      <td>I OPENED MY OWN ARCADE SHOP</td>\n",
       "      <td>WBK2_lD7KGA</td>\n",
       "      <td>2022-08-24</td>\n",
       "      <td>minecraft</td>\n",
       "      <td>298445.0</td>\n",
       "      <td>15610.0</td>\n",
       "      <td>3773387.0</td>\n",
       "      <td>2</td>\n",
       "    </tr>\n",
       "    <tr>\n",
       "      <th>2</th>\n",
       "      <td>I OPENED MY OWN ARCADE SHOP</td>\n",
       "      <td>WBK2_lD7KGA</td>\n",
       "      <td>2022-08-24</td>\n",
       "      <td>gaming</td>\n",
       "      <td>298406.0</td>\n",
       "      <td>15609.0</td>\n",
       "      <td>3773387.0</td>\n",
       "      <td>2</td>\n",
       "    </tr>\n",
       "    <tr>\n",
       "      <th>12</th>\n",
       "      <td>Lofi For Reading 📚 Lofi Hip Hop | Study Music ...</td>\n",
       "      <td>ZgeorpjGJC0</td>\n",
       "      <td>2022-08-24</td>\n",
       "      <td>music</td>\n",
       "      <td>329.0</td>\n",
       "      <td>29.0</td>\n",
       "      <td>14336.0</td>\n",
       "      <td>2</td>\n",
       "    </tr>\n",
       "    <tr>\n",
       "      <th>13</th>\n",
       "      <td>Lofi For Reading 📚 Lofi Hip Hop | Study Music ...</td>\n",
       "      <td>ZgeorpjGJC0</td>\n",
       "      <td>2022-08-24</td>\n",
       "      <td>lofi</td>\n",
       "      <td>329.0</td>\n",
       "      <td>29.0</td>\n",
       "      <td>14341.0</td>\n",
       "      <td>2</td>\n",
       "    </tr>\n",
       "    <tr>\n",
       "      <th>10</th>\n",
       "      <td>The History Of Chess: A Reflection Of Us</td>\n",
       "      <td>kkOweffr3II</td>\n",
       "      <td>2022-08-21</td>\n",
       "      <td>chess</td>\n",
       "      <td>2546.0</td>\n",
       "      <td>173.0</td>\n",
       "      <td>51885.0</td>\n",
       "      <td>2</td>\n",
       "    </tr>\n",
       "    <tr>\n",
       "      <th>11</th>\n",
       "      <td>The History Of Chess: A Reflection Of Us</td>\n",
       "      <td>kkOweffr3II</td>\n",
       "      <td>2022-08-21</td>\n",
       "      <td>history</td>\n",
       "      <td>2546.0</td>\n",
       "      <td>173.0</td>\n",
       "      <td>51885.0</td>\n",
       "      <td>2</td>\n",
       "    </tr>\n",
       "    <tr>\n",
       "      <th>5</th>\n",
       "      <td>ASMR Gaming 😴 Fortnite 1 Kill = 1 Trigger Rela...</td>\n",
       "      <td>mqc6QqoGNWI</td>\n",
       "      <td>2022-08-24</td>\n",
       "      <td>asmr</td>\n",
       "      <td>563.0</td>\n",
       "      <td>86.0</td>\n",
       "      <td>14537.0</td>\n",
       "      <td>2</td>\n",
       "    </tr>\n",
       "    <tr>\n",
       "      <th>4</th>\n",
       "      <td>ASMR Gaming 😴 Fortnite 1 Kill = 1 Trigger Rela...</td>\n",
       "      <td>mqc6QqoGNWI</td>\n",
       "      <td>2022-08-24</td>\n",
       "      <td>gaming</td>\n",
       "      <td>563.0</td>\n",
       "      <td>85.0</td>\n",
       "      <td>14537.0</td>\n",
       "      <td>2</td>\n",
       "    </tr>\n",
       "  </tbody>\n",
       "</table>\n",
       "</div>"
      ],
      "text/plain": [
       "                                                Title     Video ID  \\\n",
       "17  Vikram Vedha Movie Teaser Review | KRK | #krkr...  2FYvHn12pOQ   \n",
       "16  Vikram Vedha Movie Teaser Review | KRK | #krkr...  2FYvHn12pOQ   \n",
       "0                  My New House Gaming Setup is SICK!  4mgePWWCAmA   \n",
       "1                  My New House Gaming Setup is SICK!  4mgePWWCAmA   \n",
       "19  Computer Scientist Explains Machine Learning i...  5q87K1WaoFI   \n",
       "18  Computer Scientist Explains Machine Learning i...  5q87K1WaoFI   \n",
       "22    Python Machine Learning Tutorial (Data Science)  7eh4d6sabA0   \n",
       "23    Python Machine Learning Tutorial (Data Science)  7eh4d6sabA0   \n",
       "20  🚨 DÉPÊCHEZ-VOUS 🚨 Ces PROMOS disparaissent bie...  96mrgd8-3yE   \n",
       "21  🚨 DÉPÊCHEZ-VOUS 🚨 Ces PROMOS disparaissent bie...  96mrgd8-3yE   \n",
       "8   20 Minecraft Block Facts You Maybe Didn&#39;t ...  LeC5yJq4tsI   \n",
       "9   20 Minecraft Block Facts You Maybe Didn&#39;t ...  LeC5yJq4tsI   \n",
       "6             How to Solve a Rubik&#39;s Cube | WIRED  R-R0KrXvWbc   \n",
       "7             How to Solve a Rubik&#39;s Cube | WIRED  R-R0KrXvWbc   \n",
       "14      BLACKPINK - ‘Pink Venom’ DANCE PRACTICE VIDEO  RFMi3v0TXP8   \n",
       "15      BLACKPINK - ‘Pink Venom’ DANCE PRACTICE VIDEO  RFMi3v0TXP8   \n",
       "3                         I OPENED MY OWN ARCADE SHOP  WBK2_lD7KGA   \n",
       "2                         I OPENED MY OWN ARCADE SHOP  WBK2_lD7KGA   \n",
       "12  Lofi For Reading 📚 Lofi Hip Hop | Study Music ...  ZgeorpjGJC0   \n",
       "13  Lofi For Reading 📚 Lofi Hip Hop | Study Music ...  ZgeorpjGJC0   \n",
       "10           The History Of Chess: A Reflection Of Us  kkOweffr3II   \n",
       "11           The History Of Chess: A Reflection Of Us  kkOweffr3II   \n",
       "5   ASMR Gaming 😴 Fortnite 1 Kill = 1 Trigger Rela...  mqc6QqoGNWI   \n",
       "4   ASMR Gaming 😴 Fortnite 1 Kill = 1 Trigger Rela...  mqc6QqoGNWI   \n",
       "\n",
       "   Published At           Keyword      Likes  Comments       Views  counts  \n",
       "17   2022-08-24            movies       -1.0     105.0   1541874.0       2  \n",
       "16   2022-08-24          reaction    29728.0    8832.0    405791.0       2  \n",
       "0    2022-08-23              tech    63825.0    3338.0   1564007.0       2  \n",
       "1    2022-08-23            gaming    63825.0    3338.0   1564007.0       2  \n",
       "19   2021-08-18  machine learning    15137.0     181.0    906372.0       2  \n",
       "18   2021-08-18  computer science    42940.0    1735.0   1407319.0       2  \n",
       "22   2020-09-17      data science     7555.0     442.0    295344.0       2  \n",
       "23   2020-09-17  machine learning     1237.0      16.0     32605.0       2  \n",
       "20   2022-08-24          nintendo      406.0      57.0     13184.0       2  \n",
       "21   2022-08-24              xbox      406.0      57.0     13184.0       2  \n",
       "8    2022-08-21          tutorial    57526.0    1115.0   1204024.0       2  \n",
       "9    2022-08-21         minecraft    57527.0    1115.0   1204024.0       2  \n",
       "6    2019-09-05            how-to   339758.0   32718.0  29905105.0       2  \n",
       "7    2019-09-05             cubes   339759.0   32717.0  29905105.0       2  \n",
       "14   2022-08-24             music  3001232.0  110160.0  23836066.0       2  \n",
       "15   2022-08-24          reaction  3001265.0  110162.0  23836066.0       2  \n",
       "3    2022-08-24         minecraft   298445.0   15610.0   3773387.0       2  \n",
       "2    2022-08-24            gaming   298406.0   15609.0   3773387.0       2  \n",
       "12   2022-08-24             music      329.0      29.0     14336.0       2  \n",
       "13   2022-08-24              lofi      329.0      29.0     14341.0       2  \n",
       "10   2022-08-21             chess     2546.0     173.0     51885.0       2  \n",
       "11   2022-08-21           history     2546.0     173.0     51885.0       2  \n",
       "5    2022-08-24              asmr      563.0      86.0     14537.0       2  \n",
       "4    2022-08-24            gaming      563.0      85.0     14537.0       2  "
      ]
     },
     "execution_count": 43,
     "metadata": {},
     "output_type": "execute_result"
    }
   ],
   "source": [
    "youtube_stats_df.merge(duplicate_video_records, on = [\"Video ID\"], how = \"inner\").sort_values(by=[\"Video ID\"])\n",
    "\n",
    "# remove indexes 17, 0, 19,18, 22,23,21, 8, 7, 14, 3, 12, 11, 4"
   ]
  },
  {
   "cell_type": "code",
   "execution_count": 64,
   "metadata": {},
   "outputs": [],
   "source": [
    "num_comments_df = youtube_comments_df.groupby(by=[\"Video ID\"]).size().reset_index(name=\"num_comments\")"
   ]
  },
  {
   "cell_type": "code",
   "execution_count": 69,
   "metadata": {},
   "outputs": [],
   "source": [
    "youtube_stats_df = youtube_stats_df.merge(num_comments_df, on = [\"Video ID\"], how = \"left\")"
   ]
  },
  {
   "cell_type": "code",
   "execution_count": 70,
   "metadata": {},
   "outputs": [
    {
     "data": {
      "text/plain": [
       "0.946149703823371"
      ]
     },
     "execution_count": 70,
     "metadata": {},
     "output_type": "execute_result"
    }
   ],
   "source": [
    "youtube_stats_df.query(\"num_comments == 10\").shape[0]/ youtube_stats_df.shape[0]"
   ]
  },
  {
   "cell_type": "code",
   "execution_count": 72,
   "metadata": {},
   "outputs": [
    {
     "data": {
      "text/html": [
       "<div>\n",
       "<style scoped>\n",
       "    .dataframe tbody tr th:only-of-type {\n",
       "        vertical-align: middle;\n",
       "    }\n",
       "\n",
       "    .dataframe tbody tr th {\n",
       "        vertical-align: top;\n",
       "    }\n",
       "\n",
       "    .dataframe thead th {\n",
       "        text-align: right;\n",
       "    }\n",
       "</style>\n",
       "<table border=\"1\" class=\"dataframe\">\n",
       "  <thead>\n",
       "    <tr style=\"text-align: right;\">\n",
       "      <th></th>\n",
       "      <th>Title</th>\n",
       "      <th>Video ID</th>\n",
       "      <th>Published At</th>\n",
       "      <th>Keyword</th>\n",
       "      <th>Likes</th>\n",
       "      <th>Comments</th>\n",
       "      <th>Views</th>\n",
       "      <th>num_comments</th>\n",
       "    </tr>\n",
       "  </thead>\n",
       "  <tbody>\n",
       "    <tr>\n",
       "      <th>24</th>\n",
       "      <td>OnePlus 10R vs 10T | Unboxing &amp;amp; Comparison</td>\n",
       "      <td>Ql1-RZ2FUrc</td>\n",
       "      <td>2022-08-24</td>\n",
       "      <td>tech</td>\n",
       "      <td>970.0</td>\n",
       "      <td>207.0</td>\n",
       "      <td>23175.0</td>\n",
       "      <td>9</td>\n",
       "    </tr>\n",
       "    <tr>\n",
       "      <th>32</th>\n",
       "      <td>15 Emerging Technologies That Will Change Our ...</td>\n",
       "      <td>My2Tr3k1liw</td>\n",
       "      <td>2022-05-14</td>\n",
       "      <td>tech</td>\n",
       "      <td>3494.0</td>\n",
       "      <td>136.0</td>\n",
       "      <td>589007.0</td>\n",
       "      <td>9</td>\n",
       "    </tr>\n",
       "    <tr>\n",
       "      <th>44</th>\n",
       "      <td>Futurum Research&amp;#39;s Daniel Newman breaks do...</td>\n",
       "      <td>-VVLmBXHvL8</td>\n",
       "      <td>2022-08-24</td>\n",
       "      <td>tech</td>\n",
       "      <td>24.0</td>\n",
       "      <td>45.0</td>\n",
       "      <td>3461.0</td>\n",
       "      <td>5</td>\n",
       "    </tr>\n",
       "    <tr>\n",
       "      <th>65</th>\n",
       "      <td>Breaking News: Jharkhand के CM Hemant Soren के...</td>\n",
       "      <td>Sdm1WsGGU0w</td>\n",
       "      <td>2022-08-24</td>\n",
       "      <td>news</td>\n",
       "      <td>129.0</td>\n",
       "      <td>7.0</td>\n",
       "      <td>10642.0</td>\n",
       "      <td>3</td>\n",
       "    </tr>\n",
       "    <tr>\n",
       "      <th>66</th>\n",
       "      <td>Zee Hindustan Live News: Attack On Nitish Kuma...</td>\n",
       "      <td>XHKojSQxTs0</td>\n",
       "      <td>2022-08-24</td>\n",
       "      <td>news</td>\n",
       "      <td>1288.0</td>\n",
       "      <td>3.0</td>\n",
       "      <td>172513.0</td>\n",
       "      <td>3</td>\n",
       "    </tr>\n",
       "    <tr>\n",
       "      <th>...</th>\n",
       "      <td>...</td>\n",
       "      <td>...</td>\n",
       "      <td>...</td>\n",
       "      <td>...</td>\n",
       "      <td>...</td>\n",
       "      <td>...</td>\n",
       "      <td>...</td>\n",
       "      <td>...</td>\n",
       "    </tr>\n",
       "    <tr>\n",
       "      <th>1699</th>\n",
       "      <td>Lifetime Movies 2022 #LMN Movies | New Lifetim...</td>\n",
       "      <td>WC2LFmU8CNE</td>\n",
       "      <td>2022-08-21</td>\n",
       "      <td>movies</td>\n",
       "      <td>179555.0</td>\n",
       "      <td>6907.0</td>\n",
       "      <td>65067408.0</td>\n",
       "      <td>6</td>\n",
       "    </tr>\n",
       "    <tr>\n",
       "      <th>1702</th>\n",
       "      <td>New Lifetime Movies (2022) #LMN Movies | Based...</td>\n",
       "      <td>8gj6deh-fWU</td>\n",
       "      <td>2022-08-23</td>\n",
       "      <td>movies</td>\n",
       "      <td>280080.0</td>\n",
       "      <td>7414.0</td>\n",
       "      <td>52046148.0</td>\n",
       "      <td>1</td>\n",
       "    </tr>\n",
       "    <tr>\n",
       "      <th>1709</th>\n",
       "      <td>Mistake: Forgive Only Once | Exclusive English...</td>\n",
       "      <td>_5EkSF8-8o0</td>\n",
       "      <td>2022-01-02</td>\n",
       "      <td>movies</td>\n",
       "      <td>700.0</td>\n",
       "      <td>16.0</td>\n",
       "      <td>18302.0</td>\n",
       "      <td>9</td>\n",
       "    </tr>\n",
       "    <tr>\n",
       "      <th>1750</th>\n",
       "      <td>How Data Science Helps Small Businesses</td>\n",
       "      <td>Q_6o8l5aEWg</td>\n",
       "      <td>2022-08-24</td>\n",
       "      <td>data science</td>\n",
       "      <td>3759.0</td>\n",
       "      <td>67.0</td>\n",
       "      <td>151345.0</td>\n",
       "      <td>2</td>\n",
       "    </tr>\n",
       "    <tr>\n",
       "      <th>1844</th>\n",
       "      <td>What is Machine Learning?</td>\n",
       "      <td>QghjaS0WQQU</td>\n",
       "      <td>2018-02-22</td>\n",
       "      <td>machine learning</td>\n",
       "      <td>15683.0</td>\n",
       "      <td>1004.0</td>\n",
       "      <td>879470.0</td>\n",
       "      <td>3</td>\n",
       "    </tr>\n",
       "  </tbody>\n",
       "</table>\n",
       "<p>100 rows × 8 columns</p>\n",
       "</div>"
      ],
      "text/plain": [
       "                                                  Title     Video ID  \\\n",
       "24       OnePlus 10R vs 10T | Unboxing &amp; Comparison  Ql1-RZ2FUrc   \n",
       "32    15 Emerging Technologies That Will Change Our ...  My2Tr3k1liw   \n",
       "44    Futurum Research&#39;s Daniel Newman breaks do...  -VVLmBXHvL8   \n",
       "65    Breaking News: Jharkhand के CM Hemant Soren के...  Sdm1WsGGU0w   \n",
       "66    Zee Hindustan Live News: Attack On Nitish Kuma...  XHKojSQxTs0   \n",
       "...                                                 ...          ...   \n",
       "1699  Lifetime Movies 2022 #LMN Movies | New Lifetim...  WC2LFmU8CNE   \n",
       "1702  New Lifetime Movies (2022) #LMN Movies | Based...  8gj6deh-fWU   \n",
       "1709  Mistake: Forgive Only Once | Exclusive English...  _5EkSF8-8o0   \n",
       "1750            How Data Science Helps Small Businesses  Q_6o8l5aEWg   \n",
       "1844                          What is Machine Learning?  QghjaS0WQQU   \n",
       "\n",
       "     Published At           Keyword     Likes  Comments       Views  \\\n",
       "24     2022-08-24              tech     970.0     207.0     23175.0   \n",
       "32     2022-05-14              tech    3494.0     136.0    589007.0   \n",
       "44     2022-08-24              tech      24.0      45.0      3461.0   \n",
       "65     2022-08-24              news     129.0       7.0     10642.0   \n",
       "66     2022-08-24              news    1288.0       3.0    172513.0   \n",
       "...           ...               ...       ...       ...         ...   \n",
       "1699   2022-08-21            movies  179555.0    6907.0  65067408.0   \n",
       "1702   2022-08-23            movies  280080.0    7414.0  52046148.0   \n",
       "1709   2022-01-02            movies     700.0      16.0     18302.0   \n",
       "1750   2022-08-24      data science    3759.0      67.0    151345.0   \n",
       "1844   2018-02-22  machine learning   15683.0    1004.0    879470.0   \n",
       "\n",
       "      num_comments  \n",
       "24               9  \n",
       "32               9  \n",
       "44               5  \n",
       "65               3  \n",
       "66               3  \n",
       "...            ...  \n",
       "1699             6  \n",
       "1702             1  \n",
       "1709             9  \n",
       "1750             2  \n",
       "1844             3  \n",
       "\n",
       "[100 rows x 8 columns]"
      ]
     },
     "execution_count": 72,
     "metadata": {},
     "output_type": "execute_result"
    }
   ],
   "source": [
    "youtube_stats_df.query(\"num_comments < 10\")"
   ]
  },
  {
   "cell_type": "code",
   "execution_count": 54,
   "metadata": {},
   "outputs": [
    {
     "data": {
      "text/html": [
       "<div>\n",
       "<style scoped>\n",
       "    .dataframe tbody tr th:only-of-type {\n",
       "        vertical-align: middle;\n",
       "    }\n",
       "\n",
       "    .dataframe tbody tr th {\n",
       "        vertical-align: top;\n",
       "    }\n",
       "\n",
       "    .dataframe thead th {\n",
       "        text-align: right;\n",
       "    }\n",
       "</style>\n",
       "<table border=\"1\" class=\"dataframe\">\n",
       "  <thead>\n",
       "    <tr style=\"text-align: right;\">\n",
       "      <th></th>\n",
       "      <th>Video ID</th>\n",
       "      <th>Comment</th>\n",
       "      <th>Likes</th>\n",
       "      <th>Sentiment</th>\n",
       "    </tr>\n",
       "  </thead>\n",
       "  <tbody>\n",
       "    <tr>\n",
       "      <th>708</th>\n",
       "      <td>lHDn25SLgdk</td>\n",
       "      <td>This is terrifying. A couple days ago I was ju...</td>\n",
       "      <td>36.0</td>\n",
       "      <td>0.0</td>\n",
       "    </tr>\n",
       "    <tr>\n",
       "      <th>10232</th>\n",
       "      <td>erCx9kkDO-k</td>\n",
       "      <td>I am Tamil. I love the R.Madhavan/VJS movie. B...</td>\n",
       "      <td>283.0</td>\n",
       "      <td>2.0</td>\n",
       "    </tr>\n",
       "    <tr>\n",
       "      <th>5611</th>\n",
       "      <td>n2RNcPRtAiY</td>\n",
       "      <td>Such a \\nhumble guy. The way he approaches to ...</td>\n",
       "      <td>922.0</td>\n",
       "      <td>2.0</td>\n",
       "    </tr>\n",
       "    <tr>\n",
       "      <th>12317</th>\n",
       "      <td>GAOHbxgVpcg</td>\n",
       "      <td>Taking mine after tomorrow 😭😭😭😭haven't even pr...</td>\n",
       "      <td>26.0</td>\n",
       "      <td>0.0</td>\n",
       "    </tr>\n",
       "    <tr>\n",
       "      <th>1480</th>\n",
       "      <td>U7bNzl0HepU</td>\n",
       "      <td>I love how the cleanup crew beats the medical ...</td>\n",
       "      <td>399.0</td>\n",
       "      <td>2.0</td>\n",
       "    </tr>\n",
       "    <tr>\n",
       "      <th>164</th>\n",
       "      <td>PKATJiyz0iI</td>\n",
       "      <td>Anyone else notice how much the WYN Bullet res...</td>\n",
       "      <td>2.0</td>\n",
       "      <td>1.0</td>\n",
       "    </tr>\n",
       "    <tr>\n",
       "      <th>8349</th>\n",
       "      <td>xv_5rueuQ4c</td>\n",
       "      <td>I love when you post a lot!!</td>\n",
       "      <td>1.0</td>\n",
       "      <td>2.0</td>\n",
       "    </tr>\n",
       "    <tr>\n",
       "      <th>8856</th>\n",
       "      <td>UVLw1mxe0QI</td>\n",
       "      <td>Sarah jesteś niesamowita, przepiękny głos, jes...</td>\n",
       "      <td>120.0</td>\n",
       "      <td>1.0</td>\n",
       "    </tr>\n",
       "    <tr>\n",
       "      <th>2071</th>\n",
       "      <td>casK0pXZ5sc</td>\n",
       "      <td>In the words of the late Alan Watts. “The mean...</td>\n",
       "      <td>680.0</td>\n",
       "      <td>1.0</td>\n",
       "    </tr>\n",
       "    <tr>\n",
       "      <th>4569</th>\n",
       "      <td>UApgiHQKemk</td>\n",
       "      <td>What a coincidence! I was just playing the sco...</td>\n",
       "      <td>2.0</td>\n",
       "      <td>2.0</td>\n",
       "    </tr>\n",
       "  </tbody>\n",
       "</table>\n",
       "</div>"
      ],
      "text/plain": [
       "          Video ID                                            Comment  Likes  \\\n",
       "708    lHDn25SLgdk  This is terrifying. A couple days ago I was ju...   36.0   \n",
       "10232  erCx9kkDO-k  I am Tamil. I love the R.Madhavan/VJS movie. B...  283.0   \n",
       "5611   n2RNcPRtAiY  Such a \\nhumble guy. The way he approaches to ...  922.0   \n",
       "12317  GAOHbxgVpcg  Taking mine after tomorrow 😭😭😭😭haven't even pr...   26.0   \n",
       "1480   U7bNzl0HepU  I love how the cleanup crew beats the medical ...  399.0   \n",
       "164    PKATJiyz0iI  Anyone else notice how much the WYN Bullet res...    2.0   \n",
       "8349   xv_5rueuQ4c                       I love when you post a lot!!    1.0   \n",
       "8856   UVLw1mxe0QI  Sarah jesteś niesamowita, przepiękny głos, jes...  120.0   \n",
       "2071   casK0pXZ5sc  In the words of the late Alan Watts. “The mean...  680.0   \n",
       "4569   UApgiHQKemk  What a coincidence! I was just playing the sco...    2.0   \n",
       "\n",
       "       Sentiment  \n",
       "708          0.0  \n",
       "10232        2.0  \n",
       "5611         2.0  \n",
       "12317        0.0  \n",
       "1480         2.0  \n",
       "164          1.0  \n",
       "8349         2.0  \n",
       "8856         1.0  \n",
       "2071         1.0  \n",
       "4569         2.0  "
      ]
     },
     "execution_count": 54,
     "metadata": {},
     "output_type": "execute_result"
    }
   ],
   "source": [
    "youtube_comments_df.sample(10)"
   ]
  },
  {
   "cell_type": "code",
   "execution_count": 104,
   "metadata": {},
   "outputs": [
    {
     "data": {
      "text/plain": [
       "Text(0.5, 1.0, 'Distribution of # Comments We Have')"
      ]
     },
     "execution_count": 104,
     "metadata": {},
     "output_type": "execute_result"
    },
    {
     "data": {
      "image/png": "[encoded data removed]",
      "text/plain": [
       "<Figure size 640x480 with 1 Axes>"
      ]
     },
     "metadata": {},
     "output_type": "display_data"
    }
   ],
   "source": [
    "fig, ax = plt.subplots()\n",
    "\n",
    "ax.hist(youtube_comments_df.groupby(by=[\"Video ID\"]).size().reset_index(name=\"num_comments\").num_comments, bins = 20)\n",
    "ax.set_title(\"Distribution of # Comments We Have\")"
   ]
  },
  {
   "cell_type": "code",
   "execution_count": 154,
   "metadata": {},
   "outputs": [],
   "source": [
    "df = pd.read_csv(\"youtube_stats_clean.csv\")"
   ]
  },
  {
   "cell_type": "code",
   "execution_count": 158,
   "metadata": {},
   "outputs": [
    {
     "data": {
      "text/plain": [
       "41"
      ]
     },
     "execution_count": 158,
     "metadata": {},
     "output_type": "execute_result"
    }
   ],
   "source": [
    "df.Keyword.nunique()"
   ]
  },
  {
   "cell_type": "code",
   "execution_count": 157,
   "metadata": {},
   "outputs": [
    {
     "data": {
      "text/plain": [
       "['animals',\n",
       " 'apple',\n",
       " 'asmr',\n",
       " 'bed',\n",
       " 'biology',\n",
       " 'business',\n",
       " 'chess',\n",
       " 'cnn',\n",
       " 'computer science',\n",
       " 'crypto',\n",
       " 'cubes',\n",
       " 'data science',\n",
       " 'education',\n",
       " 'finance',\n",
       " 'food',\n",
       " 'game development',\n",
       " 'gaming',\n",
       " 'google',\n",
       " 'history',\n",
       " 'how-to',\n",
       " 'interview',\n",
       " 'literature',\n",
       " 'lofi',\n",
       " 'machine learning',\n",
       " 'marvel',\n",
       " 'mathchemistry',\n",
       " 'minecraft',\n",
       " 'movies',\n",
       " 'mrbeast',\n",
       " 'mukbang',\n",
       " 'music',\n",
       " 'news',\n",
       " 'nintendo',\n",
       " 'physics',\n",
       " 'reaction',\n",
       " 'sat',\n",
       " 'sports',\n",
       " 'tech',\n",
       " 'trolling',\n",
       " 'tutorial',\n",
       " 'xbox']"
      ]
     },
     "execution_count": 157,
     "metadata": {},
     "output_type": "execute_result"
    }
   ],
   "source": [
    "sorted(df.Keyword.unique())"
   ]
  },
  {
   "cell_type": "markdown",
   "metadata": {},
   "source": [
    "# Loading data from GCS bucket"
   ]
  },
  {
   "cell_type": "code",
   "execution_count": 172,
   "metadata": {},
   "outputs": [],
   "source": [
    "# I had to install fsspec and gcsfs\n",
    "data_df = pd.read_csv(\"gs://gcf-sources-134756275535-us-central1/youtube_stats_clean.csv\")"
   ]
  },
  {
   "cell_type": "code",
   "execution_count": 173,
   "metadata": {},
   "outputs": [
    {
     "data": {
      "text/html": [
       "<div>\n",
       "<style scoped>\n",
       "    .dataframe tbody tr th:only-of-type {\n",
       "        vertical-align: middle;\n",
       "    }\n",
       "\n",
       "    .dataframe tbody tr th {\n",
       "        vertical-align: top;\n",
       "    }\n",
       "\n",
       "    .dataframe thead th {\n",
       "        text-align: right;\n",
       "    }\n",
       "</style>\n",
       "<table border=\"1\" class=\"dataframe\">\n",
       "  <thead>\n",
       "    <tr style=\"text-align: right;\">\n",
       "      <th></th>\n",
       "      <th>Title</th>\n",
       "      <th>Video ID</th>\n",
       "      <th>Published At</th>\n",
       "      <th>Keyword</th>\n",
       "      <th>Likes</th>\n",
       "      <th>Comments</th>\n",
       "      <th>Views</th>\n",
       "      <th>publish_date</th>\n",
       "      <th>publish_year</th>\n",
       "      <th>publish_month</th>\n",
       "      <th>publish_day</th>\n",
       "      <th>num_comments_we_have</th>\n",
       "    </tr>\n",
       "  </thead>\n",
       "  <tbody>\n",
       "    <tr>\n",
       "      <th>0</th>\n",
       "      <td>Apple Pay Is Killing the Physical Wallet After...</td>\n",
       "      <td>wAZZ-UWGVHI</td>\n",
       "      <td>2022-08-23</td>\n",
       "      <td>tech</td>\n",
       "      <td>3407.0</td>\n",
       "      <td>672.0</td>\n",
       "      <td>135612.0</td>\n",
       "      <td>2022-08-23</td>\n",
       "      <td>2022</td>\n",
       "      <td>8</td>\n",
       "      <td>23</td>\n",
       "      <td>10</td>\n",
       "    </tr>\n",
       "    <tr>\n",
       "      <th>1</th>\n",
       "      <td>The most EXPENSIVE thing I own.</td>\n",
       "      <td>b3x28s61q3c</td>\n",
       "      <td>2022-08-24</td>\n",
       "      <td>tech</td>\n",
       "      <td>76779.0</td>\n",
       "      <td>4306.0</td>\n",
       "      <td>1758063.0</td>\n",
       "      <td>2022-08-24</td>\n",
       "      <td>2022</td>\n",
       "      <td>8</td>\n",
       "      <td>24</td>\n",
       "      <td>10</td>\n",
       "    </tr>\n",
       "    <tr>\n",
       "      <th>2</th>\n",
       "      <td>Petrol Vs Liquid Nitrogen | Freezing Experimen...</td>\n",
       "      <td>kXiYSI7H2b0</td>\n",
       "      <td>2022-08-23</td>\n",
       "      <td>tech</td>\n",
       "      <td>71566.0</td>\n",
       "      <td>1426.0</td>\n",
       "      <td>922918.0</td>\n",
       "      <td>2022-08-23</td>\n",
       "      <td>2022</td>\n",
       "      <td>8</td>\n",
       "      <td>23</td>\n",
       "      <td>10</td>\n",
       "    </tr>\n",
       "    <tr>\n",
       "      <th>3</th>\n",
       "      <td>Best Back to School Tech 2022!</td>\n",
       "      <td>ErMwWXQxHp0</td>\n",
       "      <td>2022-08-08</td>\n",
       "      <td>tech</td>\n",
       "      <td>96513.0</td>\n",
       "      <td>5155.0</td>\n",
       "      <td>1855644.0</td>\n",
       "      <td>2022-08-08</td>\n",
       "      <td>2022</td>\n",
       "      <td>8</td>\n",
       "      <td>8</td>\n",
       "      <td>10</td>\n",
       "    </tr>\n",
       "    <tr>\n",
       "      <th>4</th>\n",
       "      <td>Brewmaster Answers Beer Questions From Twitter...</td>\n",
       "      <td>18fwz9Itbvo</td>\n",
       "      <td>2021-11-05</td>\n",
       "      <td>tech</td>\n",
       "      <td>33570.0</td>\n",
       "      <td>1643.0</td>\n",
       "      <td>943119.0</td>\n",
       "      <td>2021-11-05</td>\n",
       "      <td>2021</td>\n",
       "      <td>11</td>\n",
       "      <td>5</td>\n",
       "      <td>10</td>\n",
       "    </tr>\n",
       "  </tbody>\n",
       "</table>\n",
       "</div>"
      ],
      "text/plain": [
       "                                               Title     Video ID  \\\n",
       "0  Apple Pay Is Killing the Physical Wallet After...  wAZZ-UWGVHI   \n",
       "1                    The most EXPENSIVE thing I own.  b3x28s61q3c   \n",
       "2  Petrol Vs Liquid Nitrogen | Freezing Experimen...  kXiYSI7H2b0   \n",
       "3                     Best Back to School Tech 2022!  ErMwWXQxHp0   \n",
       "4  Brewmaster Answers Beer Questions From Twitter...  18fwz9Itbvo   \n",
       "\n",
       "  Published At Keyword    Likes  Comments      Views publish_date  \\\n",
       "0   2022-08-23    tech   3407.0     672.0   135612.0   2022-08-23   \n",
       "1   2022-08-24    tech  76779.0    4306.0  1758063.0   2022-08-24   \n",
       "2   2022-08-23    tech  71566.0    1426.0   922918.0   2022-08-23   \n",
       "3   2022-08-08    tech  96513.0    5155.0  1855644.0   2022-08-08   \n",
       "4   2021-11-05    tech  33570.0    1643.0   943119.0   2021-11-05   \n",
       "\n",
       "   publish_year  publish_month  publish_day  num_comments_we_have  \n",
       "0          2022              8           23                    10  \n",
       "1          2022              8           24                    10  \n",
       "2          2022              8           23                    10  \n",
       "3          2022              8            8                    10  \n",
       "4          2021             11            5                    10  "
      ]
     },
     "execution_count": 173,
     "metadata": {},
     "output_type": "execute_result"
    }
   ],
   "source": [
    "data_df.head()"
   ]
  }
 ],
 "metadata": {
  "kernelspec": {
   "display_name": "Python 3.8.13 ('dev1')",
   "language": "python",
   "name": "python3"
  },
  "language_info": {
   "codemirror_mode": {
    "name": "ipython",
    "version": 3
   },
   "file_extension": ".py",
   "mimetype": "text/x-python",
   "name": "python",
   "nbconvert_exporter": "python",
   "pygments_lexer": "ipython3",
   "version": "3.8.13"
  },
  "orig_nbformat": 4,
  "vscode": {
   "interpreter": {
    "hash": "b3385324871f6d9570f7620dc92242373aade45234876ddf4712f3af7383fe60"
   }
  }
 },
 "nbformat": 4,
 "nbformat_minor": 2
}
